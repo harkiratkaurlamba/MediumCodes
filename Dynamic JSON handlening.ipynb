{
 "cells": [
  {
   "cell_type": "code",
   "execution_count": 0,
   "metadata": {
    "application/vnd.databricks.v1+cell": {
     "cellMetadata": {
      "byteLimit": 2048000,
      "rowLimit": 10000
     },
     "inputWidgets": {},
     "nuid": "739fe7a3-afcb-4549-aa38-3fc8f7920ffd",
     "showTitle": false,
     "title": ""
    }
   },
   "outputs": [],
   "source": [
    "from pyspark.sql.functions import explode_outer, explode\n",
    "from pyspark.sql import SparkSession\n",
    "from pyspark.sql.types import StructType\n",
    "session = SparkSession.builder.appName(\"Dynamic json\").getOrCreate()\n",
    "json = session.read.option(\"multiline\", \"true\").json(\"/FileStore/tables/file1.json\")\n"
   ]
  },
  {
   "cell_type": "code",
   "execution_count": 0,
   "metadata": {
    "application/vnd.databricks.v1+cell": {
     "cellMetadata": {
      "byteLimit": 2048000,
      "rowLimit": 10000
     },
     "inputWidgets": {},
     "nuid": "61efcc8d-5d56-4b32-a2c8-b3c48693898f",
     "showTitle": false,
     "title": ""
    }
   },
   "outputs": [],
   "source": [
    "def explode_arrays(df):\n",
    "    array_cols = []\n",
    "    for c in df.dtypes:\n",
    "        if c[1][:5] ==\"array\":\n",
    "            array_cols.append(c[0])\n",
    "    for x in array_cols:\n",
    "        df = df.withColumn(x,explode_outer(x))\n",
    "    return df\n",
    "\n",
    "def explode_structs(df):\n",
    "    struct_cols = []\n",
    "    x = session.createDataFrame([], StructType([]))\n",
    "    parent=\"\"\n",
    "    for c in df.dtypes:\n",
    "        if c[1][:6] ==\"struct\":\n",
    "            parent = c[0]\n",
    "            struct_cols.append(c[0])\n",
    "    \n",
    "    for i in struct_cols:\n",
    "        x = json.select(i + \".*\")\n",
    "\n",
    "    for i in x.columns:\n",
    "        access_string = parent+\".\"+i\n",
    "        new_col_name = i+\"_\"+parent\n",
    "        df = df.withColumn(new_col_name, df[access_string])\n",
    "    if len(parent)>0:\n",
    "        df = df.drop(parent)\n",
    "\n",
    "    return df\n"
   ]
  },
  {
   "cell_type": "code",
   "execution_count": 0,
   "metadata": {
    "application/vnd.databricks.v1+cell": {
     "cellMetadata": {
      "byteLimit": 2048000,
      "rowLimit": 10000
     },
     "inputWidgets": {},
     "nuid": "5475cf5d-8321-408c-abc5-a0db30a19a75",
     "showTitle": false,
     "title": ""
    }
   },
   "outputs": [],
   "source": [
    "types =[]\n",
    "for i in json.dtypes:\n",
    "    if (i[1][:6] ==\"struct\"): \n",
    "        types.append(i[1][:6]) \n",
    "    elif(i[1][:6] ==\"array<\"):\n",
    "        types.append(i[1][:5])\n",
    "    else:\n",
    "        pass "
   ]
  },
  {
   "cell_type": "code",
   "execution_count": 0,
   "metadata": {
    "application/vnd.databricks.v1+cell": {
     "cellMetadata": {
      "byteLimit": 2048000,
      "rowLimit": 10000
     },
     "inputWidgets": {},
     "nuid": "2f4b5ba5-ff8a-4d4a-92ef-fd065bfc152c",
     "showTitle": false,
     "title": ""
    }
   },
   "outputs": [],
   "source": [
    "while (len(types) > 0 ):\n",
    "    json = explode_arrays(json)\n",
    "    json = explode_structs(json)\n",
    "    types =[]\n",
    "    for i in json.dtypes:\n",
    "        if (i[1][:6] ==\"struct\"): \n",
    "            types.append(i[1][:6]) \n",
    "        elif(i[1][:6] ==\"array<\"):\n",
    "            types.append(i[1][:5])\n",
    "        else:\n",
    "            pass \n"
   ]
  },
  {
   "cell_type": "code",
   "execution_count": 0,
   "metadata": {
    "application/vnd.databricks.v1+cell": {
     "cellMetadata": {
      "byteLimit": 2048000,
      "rowLimit": 10000
     },
     "inputWidgets": {},
     "nuid": "e7ce16b4-7740-4a10-b346-6c891308f79c",
     "showTitle": false,
     "title": ""
    }
   },
   "outputs": [
    {
     "output_type": "stream",
     "name": "stdout",
     "output_type": "stream",
     "text": [
      "root\n |-- code: long (nullable = true)\n |-- message: string (nullable = true)\n |-- results_found: long (nullable = true)\n |-- results_shown: long (nullable = true)\n |-- results_start: string (nullable = true)\n |-- status: string (nullable = true)\n |-- apikey_restaurant_restaurants: string (nullable = true)\n |-- average_cost_for_two_restaurant_restaurants: long (nullable = true)\n |-- book_url_restaurant_restaurants: string (nullable = true)\n |-- cuisines_restaurant_restaurants: string (nullable = true)\n |-- currency_restaurant_restaurants: string (nullable = true)\n |-- deeplink_restaurant_restaurants: string (nullable = true)\n |-- establishment_types_restaurant_restaurants: string (nullable = true)\n |-- events_url_restaurant_restaurants: string (nullable = true)\n |-- featured_image_restaurant_restaurants: string (nullable = true)\n |-- has_online_delivery_restaurant_restaurants: long (nullable = true)\n |-- has_table_booking_restaurant_restaurants: long (nullable = true)\n |-- id_restaurant_restaurants: string (nullable = true)\n |-- is_delivering_now_restaurant_restaurants: long (nullable = true)\n |-- menu_url_restaurant_restaurants: string (nullable = true)\n |-- name_restaurant_restaurants: string (nullable = true)\n |-- order_deeplink_restaurant_restaurants: string (nullable = true)\n |-- order_url_restaurant_restaurants: string (nullable = true)\n |-- photos_url_restaurant_restaurants: string (nullable = true)\n |-- price_range_restaurant_restaurants: long (nullable = true)\n |-- switch_to_order_menu_restaurant_restaurants: long (nullable = true)\n |-- thumb_restaurant_restaurants: string (nullable = true)\n |-- url_restaurant_restaurants: string (nullable = true)\n |-- book_link_event_zomato_events_restaurant_restaurants: string (nullable = true)\n |-- date_added_event_zomato_events_restaurant_restaurants: string (nullable = true)\n |-- description_event_zomato_events_restaurant_restaurants: string (nullable = true)\n |-- disclaimer_event_zomato_events_restaurant_restaurants: string (nullable = true)\n |-- display_date_event_zomato_events_restaurant_restaurants: string (nullable = true)\n |-- display_time_event_zomato_events_restaurant_restaurants: string (nullable = true)\n |-- end_date_event_zomato_events_restaurant_restaurants: string (nullable = true)\n |-- end_time_event_zomato_events_restaurant_restaurants: string (nullable = true)\n |-- event_category_event_zomato_events_restaurant_restaurants: long (nullable = true)\n |-- event_category_name_event_zomato_events_restaurant_restaurants: string (nullable = true)\n |-- event_id_event_zomato_events_restaurant_restaurants: long (nullable = true)\n |-- friendly_end_date_event_zomato_events_restaurant_restaurants: string (nullable = true)\n |-- friendly_start_date_event_zomato_events_restaurant_restaurants: string (nullable = true)\n |-- is_active_event_zomato_events_restaurant_restaurants: long (nullable = true)\n |-- is_end_time_set_event_zomato_events_restaurant_restaurants: long (nullable = true)\n |-- is_valid_event_zomato_events_restaurant_restaurants: long (nullable = true)\n |-- restaurants_event_zomato_events_restaurant_restaurants: string (nullable = true)\n |-- share_url_event_zomato_events_restaurant_restaurants: string (nullable = true)\n |-- start_date_event_zomato_events_restaurant_restaurants: string (nullable = true)\n |-- start_time_event_zomato_events_restaurant_restaurants: string (nullable = true)\n |-- title_event_zomato_events_restaurant_restaurants: string (nullable = true)\n |-- md5sum_photo_photos_event_zomato_events_restaurant_restaurants: string (nullable = true)\n |-- order_photo_photos_event_zomato_events_restaurant_restaurants: long (nullable = true)\n |-- photo_id_photo_photos_event_zomato_events_restaurant_restaurants: long (nullable = true)\n |-- thumb_url_photo_photos_event_zomato_events_restaurant_restaurants: string (nullable = true)\n |-- type_photo_photos_event_zomato_events_restaurant_restaurants: string (nullable = true)\n |-- url_photo_photos_event_zomato_events_restaurant_restaurants: string (nullable = true)\n |-- uuid_photo_photos_event_zomato_events_restaurant_restaurants: long (nullable = true)\n |-- aggregate_rating_user_rating_restaurant_restaurants: string (nullable = true)\n |-- rating_color_user_rating_restaurant_restaurants: string (nullable = true)\n |-- rating_text_user_rating_restaurant_restaurants: string (nullable = true)\n |-- votes_user_rating_restaurant_restaurants: string (nullable = true)\n |-- added_by_offer_offers_restaurant_restaurants: long (nullable = true)\n |-- applicable_on_offer_offers_restaurant_restaurants: long (nullable = true)\n |-- date_added_offer_offers_restaurant_restaurants: string (nullable = true)\n |-- disclaimer_offer_offers_restaurant_restaurants: string (nullable = true)\n |-- end_date_offer_offers_restaurant_restaurants: string (nullable = true)\n |-- friendly_end_date_offer_offers_restaurant_restaurants: string (nullable = true)\n |-- friendly_start_date_offer_offers_restaurant_restaurants: string (nullable = true)\n |-- impressions_offer_offers_restaurant_restaurants: long (nullable = true)\n |-- is_active_offer_offers_restaurant_restaurants: long (nullable = true)\n |-- is_editable_offer_offers_restaurant_restaurants: long (nullable = true)\n |-- is_valid_offer_offers_restaurant_restaurants: long (nullable = true)\n |-- offer_id_offer_offers_restaurant_restaurants: long (nullable = true)\n |-- offer_text_offer_offers_restaurant_restaurants: string (nullable = true)\n |-- offer_type_offer_offers_restaurant_restaurants: string (nullable = true)\n |-- restaurant_list_offer_offers_restaurant_restaurants: string (nullable = true)\n |-- restaurants_offer_offers_restaurant_restaurants: string (nullable = true)\n |-- share_url_offer_offers_restaurant_restaurants: string (nullable = true)\n |-- start_date_offer_offers_restaurant_restaurants: string (nullable = true)\n |-- status_offer_offers_restaurant_restaurants: long (nullable = true)\n |-- type_offer_offers_restaurant_restaurants: string (nullable = true)\n |-- type_code_offer_offers_restaurant_restaurants: long (nullable = true)\n |-- voucher_id_offer_offers_restaurant_restaurants: long (nullable = true)\n |-- address_location_restaurant_restaurants: string (nullable = true)\n |-- city_location_restaurant_restaurants: string (nullable = true)\n |-- city_id_location_restaurant_restaurants: long (nullable = true)\n |-- country_id_location_restaurant_restaurants: long (nullable = true)\n |-- latitude_location_restaurant_restaurants: string (nullable = true)\n |-- locality_location_restaurant_restaurants: string (nullable = true)\n |-- locality_verbose_location_restaurant_restaurants: string (nullable = true)\n |-- longitude_location_restaurant_restaurants: string (nullable = true)\n |-- zipcode_location_restaurant_restaurants: string (nullable = true)\n |-- res_id_R_restaurant_restaurants: long (nullable = true)\n\n"
     ]
    }
   ],
   "source": [
    "json.printSchema()"
   ]
  }
 ],
 "metadata": {
  "application/vnd.databricks.v1+notebook": {
   "dashboards": [],
   "language": "python",
   "notebookMetadata": {
    "pythonIndentUnit": 4
   },
   "notebookName": "Dynamic JSON handlening",
   "widgets": {}
  }
 },
 "nbformat": 4,
 "nbformat_minor": 0
}
